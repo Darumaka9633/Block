{
  "nbformat": 4,
  "nbformat_minor": 0,
  "metadata": {
    "colab": {
      "provenance": [],
      "authorship_tag": "ABX9TyNm4c69UyeVIHpNNjpnIpKZ",
      "include_colab_link": true
    },
    "kernelspec": {
      "name": "python3",
      "display_name": "Python 3"
    },
    "language_info": {
      "name": "python"
    }
  },
  "cells": [
    {
      "cell_type": "markdown",
      "metadata": {
        "id": "view-in-github",
        "colab_type": "text"
      },
      "source": [
        "<a href=\"https://colab.research.google.com/github/Darumaka9633/Block/blob/main/meocboy.ipynb\" target=\"_parent\"><img src=\"https://colab.research.google.com/assets/colab-badge.svg\" alt=\"Open In Colab\"/></a>"
      ]
    },
    {
      "cell_type": "code",
      "execution_count": 1,
      "metadata": {
        "colab": {
          "base_uri": "https://localhost:8080/"
        },
        "id": "XtnAQl1pgbdo",
        "outputId": "76c379bf-2aa8-4e8b-b020-29006cf9d62f"
      },
      "outputs": [
        {
          "output_type": "stream",
          "name": "stdout",
          "text": [
            "El número aleatorio es: 5\n"
          ]
        }
      ],
      "source": [
        "import random\n",
        "\n",
        "numero_aleatorio = random.randint(1, 10)\n",
        "\n",
        "print(\"El número aleatorio es:\", numero_aleatorio)"
      ]
    }
  ]
}